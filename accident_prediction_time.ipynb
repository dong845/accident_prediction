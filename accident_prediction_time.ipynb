{
 "cells": [
  {
   "cell_type": "code",
   "execution_count": null,
   "metadata": {},
   "outputs": [],
   "source": [
    "!pip install osmnx"
   ]
  },
  {
   "cell_type": "code",
   "execution_count": 45,
   "metadata": {},
   "outputs": [],
   "source": [
    "import pandas as pd\n",
    "import numpy as np\n",
    "import osmnx as ox"
   ]
  },
  {
   "cell_type": "code",
   "execution_count": 46,
   "metadata": {},
   "outputs": [],
   "source": [
    "#Define Haversine class for calculating shortest distance between accident position and \"nodes\" which extracted using \"osmnx\" library.\n",
    "import math\n",
    "def haversine(lon1, lat1, lon2, lat2):\n",
    "    \"\"\"\n",
    "    Calculate the great circle distance between two points \n",
    "    on the earth (specified in decimal degrees)\n",
    "    \"\"\"\n",
    "    # convert decimal degrees to radians \n",
    "    lon1 = math.radians(lon1)\n",
    "    lat1 = math.radians(lat1)\n",
    "    lon2 = np.radians(lon2)\n",
    "    lat2 = np.radians(lat2)\n",
    "    # lon1, lat1, lon2, lat2 = map(np.radians, [lon1, lat1, lon2, lat2])\n",
    "\n",
    "    # haversine formula \n",
    "    dlon = lon2 - lon1 \n",
    "    dlat = lat2 - lat1 \n",
    "    a = np.sin(dlat/2)**2 + np.cos(lat1) * np.cos(lat2) * np.sin(dlon/2)**2\n",
    "    c = 2 * np.arcsin(np.sqrt(a)) \n",
    "    r = 6378 # Radius of earth in kilometers\n",
    "    return c * r"
   ]
  },
  {
   "cell_type": "code",
   "execution_count": 47,
   "metadata": {},
   "outputs": [],
   "source": [
    "G = ox.graph_from_place('Los Angeles, California', network_type='drive')"
   ]
  },
  {
   "cell_type": "code",
   "execution_count": 4,
   "metadata": {},
   "outputs": [
    {
     "name": "stdout",
     "output_type": "stream",
     "text": [
      "Requirement already up-to-date: pandas in /Users/lyudonghang/opt/anaconda3/envs/interface/lib/python3.7/site-packages (1.3.5)\n",
      "Requirement already satisfied, skipping upgrade: pytz>=2017.3 in /Users/lyudonghang/opt/anaconda3/envs/interface/lib/python3.7/site-packages (from pandas) (2020.1)\n",
      "Requirement already satisfied, skipping upgrade: python-dateutil>=2.7.3 in /Users/lyudonghang/opt/anaconda3/envs/interface/lib/python3.7/site-packages (from pandas) (2.8.1)\n",
      "Requirement already satisfied, skipping upgrade: numpy>=1.17.3; platform_machine != \"aarch64\" and platform_machine != \"arm64\" and python_version < \"3.10\" in /Users/lyudonghang/opt/anaconda3/envs/interface/lib/python3.7/site-packages (from pandas) (1.21.5)\n",
      "Requirement already satisfied, skipping upgrade: six>=1.5 in /Users/lyudonghang/opt/anaconda3/envs/interface/lib/python3.7/site-packages (from python-dateutil>=2.7.3->pandas) (1.15.0)\n"
     ]
    }
   ],
   "source": [
    "!pip install pandas --upgrade"
   ]
  },
  {
   "cell_type": "code",
   "execution_count": 48,
   "metadata": {},
   "outputs": [
    {
     "name": "stdout",
     "output_type": "stream",
     "text": [
      "(68956, 47)\n",
      "(16509, 48)\n",
      "                ID  Severity          Start_Time             End_Time  \\\n",
      "1735387  A-1735388         2 2020-11-28 01:33:00  2020-11-28 03:13:16   \n",
      "1735404  A-1735405         2 2020-11-10 02:32:00  2020-11-10 04:46:20   \n",
      "1735563  A-1735564         2 2020-11-20 08:47:00  2020-11-20 12:17:14   \n",
      "1735605  A-1735606         2 2020-12-22 12:38:30  2020-12-22 20:46:30   \n",
      "1735606  A-1735607         2 2020-12-10 20:34:30  2020-12-10 21:33:30   \n",
      "\n",
      "         Start_Lat   Start_Lng    End_Lat     End_Lng  Distance(mi)  \\\n",
      "1735387  33.963490 -118.370694  33.963061 -118.370409         0.034   \n",
      "1735404  34.152964 -118.278776  34.153274 -118.277476         0.077   \n",
      "1735563  34.051600 -118.458568  34.052739 -118.458171         0.082   \n",
      "1735605  33.981910 -118.288154  33.982370 -118.281096         0.406   \n",
      "1735606  34.135160 -118.358750  34.139809 -118.365350         0.496   \n",
      "\n",
      "                                               Description  ...  Station  \\\n",
      "1735387  Incident on S LA CIENEGA BLVD near W FLORENCE ...  ...    False   \n",
      "1735404                            EB 134 JWO I5. 3 VEH TC  ...    False   \n",
      "1735563  LAPD 1023 AT VA 11500 WILSHIRE BLVD. POSS 2000...  ...    False   \n",
      "1735605  Slow traffic from S Vermont Ave (W Gage Ave) t...  ...    False   \n",
      "1735606  Slow traffic on Hollywood Fwy N - US-101 N fro...  ...    False   \n",
      "\n",
      "          Stop Traffic_Calming Traffic_Signal Turning_Loop Sunrise_Sunset  \\\n",
      "1735387   True           False           True        False          Night   \n",
      "1735404  False           False          False        False          Night   \n",
      "1735563  False           False          False        False            Day   \n",
      "1735605  False           False          False        False            Day   \n",
      "1735606  False           False          False        False          Night   \n",
      "\n",
      "        Civil_Twilight Nautical_Twilight Astronomical_Twilight  Year  \n",
      "1735387          Night             Night                 Night  2020  \n",
      "1735404          Night             Night                 Night  2020  \n",
      "1735563            Day               Day                   Day  2020  \n",
      "1735605            Day               Day                   Day  2020  \n",
      "1735606          Night             Night                 Night  2020  \n",
      "\n",
      "[5 rows x 48 columns]\n"
     ]
    },
    {
     "name": "stderr",
     "output_type": "stream",
     "text": [
      "/Users/lyudonghang/opt/anaconda3/envs/interface/lib/python3.7/site-packages/ipykernel_launcher.py:5: SettingWithCopyWarning: \n",
      "A value is trying to be set on a copy of a slice from a DataFrame.\n",
      "Try using .loc[row_indexer,col_indexer] = value instead\n",
      "\n",
      "See the caveats in the documentation: https://pandas.pydata.org/pandas-docs/stable/user_guide/indexing.html#returning-a-view-versus-a-copy\n",
      "  \"\"\"\n",
      "/Users/lyudonghang/opt/anaconda3/envs/interface/lib/python3.7/site-packages/ipykernel_launcher.py:6: SettingWithCopyWarning: \n",
      "A value is trying to be set on a copy of a slice from a DataFrame.\n",
      "Try using .loc[row_indexer,col_indexer] = value instead\n",
      "\n",
      "See the caveats in the documentation: https://pandas.pydata.org/pandas-docs/stable/user_guide/indexing.html#returning-a-view-versus-a-copy\n",
      "  \n"
     ]
    }
   ],
   "source": [
    "data_path = \"US_Accidents_Dec21_updated.csv\"\n",
    "data = pd.read_csv(data_path)\n",
    "kaggle_LA = data[data[\"City\"]==\"Los Angeles\"]\n",
    "print(kaggle_LA.shape)\n",
    "kaggle_LA['Start_Time'] =  pd.to_datetime(kaggle_LA['Start_Time'], format='%Y-%m-%d %H:%M:%S')\n",
    "kaggle_LA['Year'] = pd.DatetimeIndex(kaggle_LA['Start_Time']).year\n",
    "kaggle_LA_2020 = kaggle_LA[kaggle_LA[\"Year\"]==2020]\n",
    "print(kaggle_LA_2020.shape)\n",
    "print(kaggle_LA_2020.head())"
   ]
  },
  {
   "cell_type": "code",
   "execution_count": 7,
   "metadata": {},
   "outputs": [
    {
     "name": "stdout",
     "output_type": "stream",
     "text": [
      "True\n"
     ]
    }
   ],
   "source": [
    "import datetime\n",
    "print(datetime.date(2020, 6, 23)<datetime.date(2020, 6, 24))"
   ]
  },
  {
   "cell_type": "code",
   "execution_count": 13,
   "metadata": {},
   "outputs": [
    {
     "name": "stdout",
     "output_type": "stream",
     "text": [
      "2020-04-09 00:00:00\n"
     ]
    }
   ],
   "source": [
    "ts = pd.to_datetime(\"2020-03-30\")+pd.DateOffset(days=10)\n",
    "print(ts)"
   ]
  },
  {
   "cell_type": "code",
   "execution_count": 49,
   "metadata": {},
   "outputs": [
    {
     "name": "stdout",
     "output_type": "stream",
     "text": [
      "(49527, 49)\n",
      "(49527, 51)\n",
      "          ID  Severity          Start_Time             End_Time  Start_Lat  \\\n",
      "0  A-1735388         2 2020-11-28 01:33:00  2020-11-28 03:13:16  33.963490   \n",
      "1  A-1735405         2 2020-11-10 02:32:00  2020-11-10 04:46:20  34.152964   \n",
      "2  A-1735564         2 2020-11-20 08:47:00  2020-11-20 12:17:14  34.051600   \n",
      "3  A-1735606         2 2020-12-22 12:38:30  2020-12-22 20:46:30  33.981910   \n",
      "4  A-1735607         2 2020-12-10 20:34:30  2020-12-10 21:33:30  34.135160   \n",
      "\n",
      "    Start_Lng    End_Lat     End_Lng  Distance(mi)  \\\n",
      "0 -118.370694  33.963061 -118.370409         0.034   \n",
      "1 -118.278776  34.153274 -118.277476         0.077   \n",
      "2 -118.458568  34.052739 -118.458171         0.082   \n",
      "3 -118.288154  33.982370 -118.281096         0.406   \n",
      "4 -118.358750  34.139809 -118.365350         0.496   \n",
      "\n",
      "                                         Description  ...  Traffic_Signal  \\\n",
      "0  Incident on S LA CIENEGA BLVD near W FLORENCE ...  ...            True   \n",
      "1                            EB 134 JWO I5. 3 VEH TC  ...           False   \n",
      "2  LAPD 1023 AT VA 11500 WILSHIRE BLVD. POSS 2000...  ...           False   \n",
      "3  Slow traffic from S Vermont Ave (W Gage Ave) t...  ...           False   \n",
      "4  Slow traffic on Hollywood Fwy N - US-101 N fro...  ...           False   \n",
      "\n",
      "  Turning_Loop Sunrise_Sunset Civil_Twilight Nautical_Twilight  \\\n",
      "0        False          Night          Night             Night   \n",
      "1        False          Night          Night             Night   \n",
      "2        False            Day            Day               Day   \n",
      "3        False            Day            Day               Day   \n",
      "4        False          Night          Night             Night   \n",
      "\n",
      "  Astronomical_Twilight  Year Accident Hour        Date  \n",
      "0                 Night  2020        1    1  2020-11-28  \n",
      "1                 Night  2020        1    2  2020-11-10  \n",
      "2                   Day  2020        1    8  2020-11-20  \n",
      "3                   Day  2020        1   12  2020-12-22  \n",
      "4                 Night  2020        1   20  2020-12-10  \n",
      "\n",
      "[5 rows x 51 columns]\n"
     ]
    }
   ],
   "source": [
    "import random\n",
    "random.seed(0)\n",
    "def addNegativeSamples(df):\n",
    "    global balanced_kaggle_california_df\n",
    "    #Specifying raw dataframe\n",
    "    raw_df = df.copy()\n",
    "    raw_df[\"Accident\"] = 1\n",
    "    \n",
    "    #Specifying date dataframe\n",
    "    negative_date_df = df.copy()\n",
    "    negative_date_df[\"Accident\"] = 0\n",
    "\n",
    "    #Specifying hour dataframe\n",
    "    negative_hour_df = df.copy()\n",
    "    negative_hour_df[\"Accident\"] = 0\n",
    "    \n",
    "    #Offset \"DATE\" column with -15~15 days without 0\n",
    "    day_list = list(range(-15, 16))\n",
    "    day_list.remove(0)\n",
    "    negative_date_df[\"Start_Time\"] = negative_date_df[\"Start_Time\"] + pd.DateOffset(days=random.choice(day_list))\n",
    "\n",
    "    #Offset \"HOUR\" column with -12~12 hour without 0\n",
    "    hour_list = list(range(-12, 13))\n",
    "    hour_list.remove(0)\n",
    "    negative_hour_df[\"Start_Time\"] = negative_hour_df[\"Start_Time\"] + pd.DateOffset(hours=random.choice(hour_list))\n",
    "\n",
    "    balanced_kaggle_california_df = pd.concat([raw_df, negative_date_df, negative_hour_df],ignore_index=True)\n",
    "    return balanced_kaggle_california_df\n",
    "\n",
    "kaggle_LA_2020 = addNegativeSamples(kaggle_LA_2020)\n",
    "print(kaggle_LA_2020.shape)\n",
    "kaggle_LA_2020['Hour'] = pd.DatetimeIndex(kaggle_LA_2020['Start_Time']).hour\n",
    "kaggle_LA_2020['Date'] = kaggle_LA_2020['Start_Time'].apply(lambda x: str(x).split()[0])\n",
    "print(kaggle_LA_2020.shape)\n",
    "print(kaggle_LA_2020.head())"
   ]
  },
  {
   "cell_type": "code",
   "execution_count": 50,
   "metadata": {},
   "outputs": [
    {
     "name": "stdout",
     "output_type": "stream",
     "text": [
      "(49527, 54)\n",
      "          ID  Severity          Start_Time             End_Time  Start_Lat  \\\n",
      "0  A-1735388         2 2020-11-28 01:33:00  2020-11-28 03:13:16  33.963490   \n",
      "1  A-1735405         2 2020-11-10 02:32:00  2020-11-10 04:46:20  34.152964   \n",
      "2  A-1735564         2 2020-11-20 08:47:00  2020-11-20 12:17:14  34.051600   \n",
      "3  A-1735606         2 2020-12-22 12:38:30  2020-12-22 20:46:30  33.981910   \n",
      "4  A-1735607         2 2020-12-10 20:34:30  2020-12-10 21:33:30  34.135160   \n",
      "\n",
      "    Start_Lng    End_Lat     End_Lng  Distance(mi)  \\\n",
      "0 -118.370694  33.963061 -118.370409         0.034   \n",
      "1 -118.278776  34.153274 -118.277476         0.077   \n",
      "2 -118.458568  34.052739 -118.458171         0.082   \n",
      "3 -118.288154  33.982370 -118.281096         0.406   \n",
      "4 -118.358750  34.139809 -118.365350         0.496   \n",
      "\n",
      "                                         Description  ...  Civil_Twilight  \\\n",
      "0  Incident on S LA CIENEGA BLVD near W FLORENCE ...  ...           Night   \n",
      "1                            EB 134 JWO I5. 3 VEH TC  ...           Night   \n",
      "2  LAPD 1023 AT VA 11500 WILSHIRE BLVD. POSS 2000...  ...             Day   \n",
      "3  Slow traffic from S Vermont Ave (W Gage Ave) t...  ...             Day   \n",
      "4  Slow traffic on Hollywood Fwy N - US-101 N fro...  ...           Night   \n",
      "\n",
      "  Nautical_Twilight Astronomical_Twilight  Year Accident Hour        Date  \\\n",
      "0             Night                 Night  2020        1    1  2020-11-28   \n",
      "1             Night                 Night  2020        1    2  2020-11-10   \n",
      "2               Day                   Day  2020        1    8  2020-11-20   \n",
      "3               Day                   Day  2020        1   12  2020-12-22   \n",
      "4             Night                 Night  2020        1   20  2020-12-10   \n",
      "\n",
      "  converted_hour converted_month converted_day  \n",
      "0              0               2             1  \n",
      "1              0               2             0  \n",
      "2              1               2             0  \n",
      "3              3               3             0  \n",
      "4              6               2             0  \n",
      "\n",
      "[5 rows x 54 columns]\n"
     ]
    }
   ],
   "source": [
    "# convert hour, day and month to take each one into corresponding category\n",
    "def convert_time(df):\n",
    "    def convert_hour(x):\n",
    "        if 0<=x and x<=6:\n",
    "            return 0\n",
    "        elif 7<=x and x<=8:\n",
    "            return 1\n",
    "        elif 9<=x and x<=11:\n",
    "            return 2\n",
    "        elif 12<=x and x<=13:\n",
    "            return 3\n",
    "        elif 14<=x and x<=16:\n",
    "            return 4\n",
    "        elif 17<=x and x<=19:\n",
    "            return 5\n",
    "        else:\n",
    "            return 6\n",
    "        \n",
    "    def convert_month(x):\n",
    "        year, month, day = x.split(\"-\")\n",
    "        year = int(year)\n",
    "        month = int(month)\n",
    "        day = int(day)\n",
    "        current_date = datetime.date(year, month, day)\n",
    "        if current_date>=datetime.date(year, 3, 20) and current_date<datetime.date(year,6, 21):\n",
    "            return 0\n",
    "        elif current_date>=datetime.date(year, 6, 21) and current_date<datetime.date(year,9, 23):\n",
    "            return 1\n",
    "        elif current_date>=datetime.date(year, 9, 23) and current_date<datetime.date(year,12, 21):\n",
    "            return 2\n",
    "        else:\n",
    "            return 3\n",
    "    \n",
    "    def convert_day(x):\n",
    "        year, month, day = x.split(\"-\")\n",
    "        year = int(year)\n",
    "        month = int(month)\n",
    "        day = int(day)\n",
    "        wk = datetime.date(year, month, day).weekday()\n",
    "        if wk>=1 and wk<=4:\n",
    "            return 0\n",
    "        else:\n",
    "            return 1\n",
    "        \n",
    "    df[\"converted_hour\"] = df[\"Hour\"].apply(lambda x: convert_hour(x))\n",
    "    df[\"converted_month\"] = df[\"Date\"].apply(lambda x: convert_month(x))\n",
    "    df[\"converted_day\"] = df[\"Date\"].apply(lambda x: convert_day(x))\n",
    "    return df\n",
    "kaggle_LA_2020 = convert_time(kaggle_LA_2020)\n",
    "print(kaggle_LA_2020.shape)\n",
    "print(kaggle_LA_2020.head())"
   ]
  },
  {
   "cell_type": "code",
   "execution_count": 51,
   "metadata": {},
   "outputs": [
    {
     "name": "stdout",
     "output_type": "stream",
     "text": [
      "(49527, 6)\n",
      "         Lat         Lng  converted_hour  converted_month  converted_day  \\\n",
      "0  33.963276 -118.370552               0                2              1   \n",
      "1  34.153119 -118.278126               0                2              0   \n",
      "2  34.052170 -118.458370               1                2              0   \n",
      "3  33.982140 -118.284625               3                3              0   \n",
      "4  34.137484 -118.362050               6                2              0   \n",
      "\n",
      "   Accident  \n",
      "0         1  \n",
      "1         1  \n",
      "2         1  \n",
      "3         1  \n",
      "4         1  \n"
     ]
    }
   ],
   "source": [
    "kaggle_LA_2020[\"Lat\"] = (kaggle_LA_2020[\"Start_Lat\"]+kaggle_LA_2020[\"End_Lat\"])/2\n",
    "kaggle_LA_2020[\"Lng\"] = (kaggle_LA_2020[\"Start_Lng\"]+kaggle_LA_2020[\"End_Lng\"])/2\n",
    "kaggle_LA_2020_new = kaggle_LA_2020[[\"Lat\", \"Lng\", \"converted_hour\", \"converted_month\", \"converted_day\", \"Accident\"]]\n",
    "print(kaggle_LA_2020_new.shape)\n",
    "print(kaggle_LA_2020_new.head())"
   ]
  },
  {
   "cell_type": "code",
   "execution_count": 60,
   "metadata": {},
   "outputs": [
    {
     "name": "stdout",
     "output_type": "stream",
     "text": [
      "{'y': 34.1235604, 'x': -118.226157, 'highway': 'stop', 'street_count': 5}\n"
     ]
    }
   ],
   "source": [
    "nodes_list = sorted(list(G.nodes))\n",
    "tmp = nodes_list[100]\n",
    "print(G.nodes[tmp])"
   ]
  },
  {
   "cell_type": "code",
   "execution_count": 53,
   "metadata": {},
   "outputs": [
    {
     "name": "stdout",
     "output_type": "stream",
     "text": [
      "{'osmid': [907145138, 895315641, 895315642, 398770659], 'lanes': '6', 'name': 'National Boulevard', 'highway': 'secondary', 'maxspeed': '35 mph', 'oneway': False, 'length': 88.746, 'geometry': <shapely.geometry.linestring.LineString object at 0x7fdf9f970050>}\n",
      "{'osmid': [398770658, 759468526, 759468527], 'oneway': False, 'lanes': '4', 'name': 'National Boulevard', 'highway': 'secondary', 'maxspeed': '35 mph', 'length': 102.25999999999999, 'tunnel': 'yes', 'geometry': <shapely.geometry.linestring.LineString object at 0x7fdf9f9701d0>}\n",
      "{'osmid': 398771138, 'lanes': '5', 'name': 'National Boulevard', 'highway': 'secondary', 'maxspeed': '35 mph', 'oneway': False, 'length': 19.948999999999998, 'geometry': <shapely.geometry.linestring.LineString object at 0x7fdf9f970090>}\n",
      "{'osmid': [404964730, 398771139], 'lanes': ['4', '5'], 'name': 'National Boulevard', 'highway': 'secondary', 'maxspeed': '35 mph', 'oneway': False, 'length': 109.153, 'geometry': <shapely.geometry.linestring.LineString object at 0x7fdf9f970250>}\n",
      "{'osmid': 643327598, 'name': 'Military Avenue', 'highway': 'tertiary', 'oneway': False, 'length': 19.405, 'geometry': <shapely.geometry.linestring.LineString object at 0x7fdf9f970290>}\n",
      "{'osmid': 1125472054, 'name': 'Military Avenue', 'highway': 'residential', 'oneway': False, 'length': 99.487, 'geometry': <shapely.geometry.linestring.LineString object at 0x7fdf9f970310>}\n",
      "{'osmid': 37689821, 'lanes': '4', 'name': 'National Boulevard', 'highway': 'secondary', 'maxspeed': '35 mph', 'oneway': False, 'length': 86.97, 'geometry': <shapely.geometry.linestring.LineString object at 0x7fdf9f970190>}\n",
      "{'osmid': [13401377, 150945316], 'name': ['Midvale Avenue', 'Sproul Avenue'], 'highway': 'residential', 'oneway': False, 'length': 260.58799999999997, 'geometry': <shapely.geometry.linestring.LineString object at 0x7fdf9f970390>}\n"
     ]
    }
   ],
   "source": [
    "temp = 0\n",
    "for edge in G.edges:\n",
    "    print(G[edge[0]][edge[1]][0])\n",
    "    if temp>6:\n",
    "        break\n",
    "    temp+=1"
   ]
  },
  {
   "cell_type": "code",
   "execution_count": 61,
   "metadata": {},
   "outputs": [
    {
     "name": "stdout",
     "output_type": "stream",
     "text": [
      "nodes_num 49248\n",
      "number of 1s: 16670\n",
      "number of 0s: 32578\n"
     ]
    }
   ],
   "source": [
    "nodes_num = len(nodes_list)\n",
    "print(\"nodes_num\", nodes_num)\n",
    "feature_matrix = np.zeros((nodes_num,5))\n",
    "labels = []\n",
    "times = 0\n",
    "num_1s = 0\n",
    "num_0s = 0\n",
    "for node in nodes_list:\n",
    "    lats = G.nodes[node][\"y\"]\n",
    "    lngs = G.nodes[node][\"x\"]\n",
    "    if \"street_count\" in G.nodes[node]:\n",
    "        street_count = G.nodes[node][\"street_count\"]\n",
    "    else:\n",
    "        street_count = 0\n",
    "    dist_min = float(\"inf\")\n",
    "    lat_accident = np.array(kaggle_LA_2020_new[\"Lat\"])\n",
    "    lng_accident = np.array(kaggle_LA_2020_new[\"Lng\"])\n",
    "    dist = haversine(lngs, lats, lng_accident, lat_accident)\n",
    "    dist_tmp = np.min(dist)\n",
    "    dist_indexes = list(np.where(dist==dist_tmp)[0])\n",
    "    dist_index = random.choice(dist_indexes)\n",
    "    if dist_tmp<dist_min:\n",
    "        dist_min = dist_tmp\n",
    "        hours = int(kaggle_LA_2020_new[\"converted_hour\"].iloc[dist_index])\n",
    "        months = int(kaggle_LA_2020_new[\"converted_month\"].iloc[dist_index])\n",
    "        days = int(kaggle_LA_2020_new[\"converted_day\"].iloc[dist_index])\n",
    "    feature_matrix[times, 0] = lats\n",
    "    feature_matrix[times, 1] = lngs\n",
    "    feature_matrix[times, 2] = hours\n",
    "    feature_matrix[times, 3] = months\n",
    "    feature_matrix[times, 4] = days\n",
    "    labels.append(kaggle_LA_2020_new[\"Accident\"].iloc[dist_index])\n",
    "    times+=1\n",
    "    if kaggle_LA_2020[\"Accident\"].iloc[dist_index]==1:\n",
    "        num_1s+=1\n",
    "    else:\n",
    "        num_0s+=1\n",
    "print(\"number of 1s:\", num_1s)\n",
    "print(\"number of 0s:\", num_0s)\n",
    "        "
   ]
  },
  {
   "cell_type": "code",
   "execution_count": 62,
   "metadata": {},
   "outputs": [],
   "source": [
    "lat_min = np.min(feature_matrix[:, 0])\n",
    "lat_max = np.max(feature_matrix[:, 0])\n",
    "lng_min = np.min(feature_matrix[:, 1])\n",
    "lng_max = np.max(feature_matrix[:, 1])\n",
    "# 20 x 20 = 400 blocks\n",
    "lat_interval = (lat_max-lat_min)/20\n",
    "lng_interval = (lng_max-lng_min)/20\n",
    "save_dict = {}\n",
    "for i in range(feature_matrix.shape[0]):\n",
    "    xx = min(int((feature_matrix[i, 0]-lat_min)/lat_interval), 19)\n",
    "    yy = min(int((feature_matrix[i, 1]-lng_min)/lng_interval), 19)\n",
    "    if tuple([xx, yy]) not in save_dict:\n",
    "        save_dict[tuple([xx, yy])] = [i]\n",
    "    else:\n",
    "        save_dict[tuple([xx, yy])].append(i)"
   ]
  },
  {
   "cell_type": "code",
   "execution_count": 63,
   "metadata": {},
   "outputs": [
    {
     "name": "stdout",
     "output_type": "stream",
     "text": [
      "[653688, 653689, 653690, 653691, 653693, 18166124, 21300195, 21300198, 21748287, 24960494, 24960499, 60957875, 60957877, 122575957, 122575959, 122575962, 122575964, 122576018, 122576021, 122576024, 122576027, 122584862, 122584867, 122584877, 122584881, 122584885, 122584894, 122584913, 122584915, 122589747, 122589753, 122589759, 122589764, 122589767, 122603065, 122603067, 122603070, 122603075, 122603077, 122603085, 122603088, 122603101, 122617564, 122617576, 122617579, 122617618, 122617621, 122617624, 122617627, 122617632, 122617642, 122624727, 122624730, 122624732, 122624774, 122624776, 122624778, 122624822, 122624825, 122624841, 122624843, 122624852, 122624855, 122636575, 122636581, 122636588, 122639292, 122639295, 122639298, 122649328, 122649330, 122649336, 122649338, 122649345, 122652017, 122655341, 122655345, 122655351, 122655709, 122655712, 122655717, 122655724, 122655726, 122655732, 122655743, 122655747, 122659929, 122659932, 122663749, 122668890, 122668894, 122668897, 122693301, 122693303, 122693306, 122693308, 122693317, 122693319, 122693346, 122693393, 122693401, 122693403, 122701218, 122701223, 122701225, 122701226, 122716189, 122716194, 122716196, 122721011, 122734098, 122734100, 122734101, 122734114, 122734155, 122734157, 122747552, 122752987, 122752991, 122806819, 122806854, 122806950, 122806955, 122806958, 122806960, 122806967, 122815057, 122815061, 122815066, 122823334, 122832085, 122832087, 122832093, 122832097, 122842138, 122842143, 122842144, 122842156, 122842162, 122842164, 122858757, 122861448, 122861449, 122863014, 122863015, 122867515, 122867519, 122867566, 122867584, 122872026, 122883616, 122883623, 122883646, 122883649, 122883652, 122883661, 122883665, 122883688, 122886523, 122886525, 122886542, 122886545, 122886564, 122901755, 122901761, 122904899, 122904908, 122935176, 122935179, 122935184, 122966775, 122966787, 122971382, 122971388, 122979008, 122979011, 122979014, 122979017, 122979020, 122979029, 122981286, 122981293, 122981296, 122981343, 123005015, 123015486, 123015492, 123015494, 123030013, 123088030, 123112789, 123113938, 123113942, 123141642, 123141645, 123141648, 123141651, 123141654, 123148473, 123148490, 123148492, 123148552, 123173854, 123173881, 123175240, 123175242, 123175256, 123177218, 123191916, 123191918, 123191932, 123191934, 123192827, 123203368, 123203372, 123239208, 123308634, 123311190, 123311191, 123311192, 123334943, 123397746, 123400936, 123476027, 123556086, 123556090, 123556105, 123556125, 123624317, 123630329, 123698420, 196684761, 196685059, 196685294, 276604683, 344372973, 344375342, 344376241, 344376515, 365355606, 365355709, 418032185, 602429978, 602429979, 602430138, 602431095, 658960068, 864365902, 864365918, 1613134456, 1613134457, 1613134459, 1613134463, 1613134469, 1613152480, 1613152481, 1613190132, 1613190144, 1613190154, 1613190193, 1613190205, 1613371586, 1613580489, 1614655076, 1614655105, 1614655151, 1614655423, 1614956842, 1615552682, 1615552722, 1615552724, 1615552735, 1615552747, 1615552750, 1615552753, 1615552793, 1615552795, 1615552819, 1615552822, 1615552828, 1615552862, 1620475562, 1637749159, 1637749162, 1637749257, 1637749279, 1637749282, 1637749288, 1637773623, 1638050149, 1638050191, 1638050197, 1638050200, 1638050201, 1708685427, 1711811906, 1711811908, 1712565627, 1712565632, 1712565645, 1712565647, 1712565654, 1712565659, 1712565661, 1712565666, 1712565678, 1712565681, 1712565683, 1712565694, 1712565706, 1712565715, 1712565717, 1712565726, 1712565735, 1712565739, 1712565744, 1712565748, 1712565749, 1712565752, 1712565763, 1712565767, 1717215499, 1717215504, 1717290546, 1717290551, 1717298327, 1773238885, 1773238941, 1773238947, 1773650063, 1773650072, 1834863774, 1834863789, 2590696692, 3609856413, 3609856422, 3609856426, 3609856430, 3959022304, 6404612516, 6404612519, 7370963907, 7777533437, 7914440559, 8082738013, 8086659889, 8086659892, 8280001717, 8280001721, 8298597907, 8566311065, 8724288871]\n",
      "352\n",
      "968\n",
      "[653721, 15857115, 15857117, 15857118, 21302802, 21302803, 21306017, 60951820, 60951821, 60951825, 60951826, 60951827, 63036097, 63036107, 63038941, 63038958, 63038970, 63038986, 63039005, 122582258, 122582262, 122582270, 122609780, 122659564, 122659566, 122662486, 122662489, 122662492, 122662503, 122662505, 122662508, 122662510, 122662514, 122676786, 122676788, 122676793, 122676795, 122676797, 122676805, 122676807, 122676816, 122676819, 122676827, 122676828, 122676830, 122676861, 122676863, 122696503, 122699619, 122699620, 122699622, 122699625, 122699630, 122699632, 122699633, 122699640, 122699655, 122699693, 122699696, 122699698, 122706024, 122706029, 122719122, 122719124, 122719126, 122719133, 122719135, 122719138, 122719141, 122719145, 122719149, 122719156, 122740102, 122740105, 122740107, 122740112, 122740114, 122740121, 122740124, 122740127, 122740128, 122740129, 122740238, 122740240, 122767244, 122767336, 122767340, 122767356, 122767359, 122767362, 122769168, 122769182, 122769185, 122769188, 122769190, 122798700, 122798704, 122798706, 122809835, 122809838, 122809842, 122809845, 122809847, 122809851, 122809904, 122809907, 122809909, 122809911, 122809915, 122809916, 122814316, 122814318, 122814321, 122814323, 122814324, 122814326, 122814328, 122814329, 122814330, 122827940, 122827944, 122827947, 122827949, 122850409, 122850411, 122850414, 122850420, 122850423, 122883872, 122883873, 122883875, 122883876, 122883932, 122883943, 122886114, 122917823, 122917826, 122917832, 122917836, 122917838, 122917842, 122917847, 122921811, 122927348, 122927355, 122946927, 122983960, 122983963, 122983965, 122983967, 122983969, 122983972, 122984052, 122984053, 122984054, 122984057, 122984060, 122984063, 122984080, 122984083, 122984087, 122984091, 122988038, 123026155, 123026158, 123026160, 123026162, 123026165, 123026168, 123026170, 123026187, 123055473, 123055476, 123055478, 123055480, 123055482, 123055486, 123079211, 123079222, 123079228, 123079233, 123079235, 123079237, 123079239, 123084297, 123084298, 123084300, 123084303, 123112769, 123112771, 123112803, 123112806, 123112808, 123112860, 123112862, 123112867, 123112871, 123112874, 123112877, 123112879, 123112882, 123112885, 123165439, 123178750, 123178753, 123178756, 123178760, 123178763, 123178767, 123178770, 123180314, 123180316, 123183756, 123183840, 123183886, 123195625, 123195629, 123195632, 123195635, 123224095, 123224098, 123224101, 123224239, 123224242, 123250711, 123250715, 123250718, 123250721, 123250728, 123250732, 123250737, 123250740, 123250744, 123250747, 123250751, 123250755, 123250759, 123287136, 123287138, 123287155, 123287157, 123287165, 123330342, 123330345, 123358921, 123358932, 123358936, 123358937, 123358944, 123358947, 123362791, 123362807, 123362820, 123362822, 123370558, 123370567, 123374746, 123374752, 123408783, 123408792, 123408798, 123408802, 123408805, 123408808, 123408812, 123408814, 123408819, 123408823, 123408825, 123408826, 123408828, 123408836, 123408838, 123408849, 123408894, 123408896, 123408901, 123408908, 123408911, 123454856, 123475628, 123475632, 123475639, 123475641, 123526155, 123526182, 123526185, 123526188, 123546097, 123546100, 123549263, 123550144, 123556027, 123556060, 123556077, 123599665, 123599737, 123633183, 123633243, 123633592, 123684609, 123684621, 123686731, 123686774, 123689354, 123689356, 123689358, 123689362, 123689364, 123702705, 123714815, 123721379, 123736657, 123736679, 123736681, 123743994, 123744000, 207699698, 207716852, 207716853, 207761476, 207837281, 207837530, 207837691, 207966657, 269789894, 269790006, 269790028, 269790029, 306611238, 306611396, 306611498, 306611791, 306611931, 306611942, 306612009, 415166810, 418030928, 441907195, 602884655, 611590626, 611590632, 611619072, 611619090, 611619093, 611619139, 612113459, 612113717, 612113726, 660937734, 713010058, 713010064, 713010090, 713019255, 940377023, 1613525130, 1613580518, 1614655585, 1614655608, 1614655741, 1614655776, 1614655781, 1614655806, 1614655862, 1614655864, 1614655979, 1614656012, 1615672695, 1615672703, 1615672716, 1615672728, 1615672729, 1615672730, 1615672731, 1615672745, 1618142021, 1618142044, 1618142047, 1618142063, 1618142101, 1618152885, 1618274499, 1717132342, 1717132387, 1717247660, 1717247701, 1717247716, 1717247718, 1717247738, 1717247745, 1717247755, 1717247786, 1717247788, 1717247791, 1717247794, 1717247798, 1841023489, 1841024661, 1841024665, 1842523669, 2155602980, 2382880998, 3616258280, 3874624408, 3874624410, 3881442522, 3881442523, 3881442525, 6470666652, 6470666653, 6902352857, 7568849197, 7568849198, 8203962708, 8203962709, 8483995150, 8483995152]\n",
      "417\n",
      "1207\n",
      "[653731, 14940433, 14940434, 21098483, 21098484, 21098486, 21098539, 21098540, 21306060, 25522208, 60947721, 60947731, 63051554, 63051562, 63068516, 63068522, 63068532, 122532745, 122537361, 122583731, 122583732, 122583804, 122613159, 122613161, 122613163, 122625019, 122625021, 122625024, 122625030, 122625127, 122652866, 122652868, 122657396, 122657398, 122657407, 122657409, 122659036, 122659038, 122659040, 122659042, 122659045, 122659051, 122659052, 122659053, 122659055, 122659220, 122659222, 122659224, 122674590, 122706869, 122706872, 122719048, 122719050, 122719053, 122719056, 122719059, 122719061, 122719065, 122719067, 122719070, 122719072, 122719216, 122719255, 122719259, 122719268, 122719270, 122719273, 122719282, 122723942, 122723944, 122740053, 122740059, 122740063, 122740204, 122740205, 122740207, 122740210, 122740248, 122740250, 122770946, 122770948, 122770955, 122770957, 122770964, 122770966, 122779111, 122779114, 122814291, 122814447, 122814472, 122817131, 122817133, 122817135, 122817137, 122817164, 122817165, 122817166, 122817168, 122817171, 122817173, 122827893, 122827894, 122827899, 122827901, 122845013, 122845015, 122845017, 122845022, 122867886, 122867888, 122918140, 122918143, 122935674, 122935676, 122935678, 122935680, 122935689, 122935692, 122935696, 122950496, 123010106, 123010109, 123019326, 123019475, 123019477, 123067177, 123067179, 123067181, 123076514, 123076517, 123096999, 123152270, 123152272, 123152274, 123152277, 123152280, 123152283, 123152289, 123152291, 123152294, 123152312, 123161885, 123161891, 123161914, 123161919, 123161924, 123161928, 123161933, 123161946, 123161984, 123161985, 123161987, 123165404, 123165470, 123178704, 123178706, 123178708, 123178710, 123178713, 123178718, 123178721, 123178724, 123178876, 123178891, 123178896, 123182814, 123182824, 123183644, 123183652, 123183657, 123183767, 123184072, 123184081, 123184083, 123184088, 123184091, 123184093, 123184099, 123184101, 123195186, 123195187, 123195189, 123208531, 123209602, 123209605, 123209609, 123250966, 123287836, 123287847, 123288026, 123289542, 123289544, 123295515, 123295518, 123318563, 123318643, 123318646, 123318686, 123358887, 123358895, 123358901, 123408705, 123408740, 123408746, 123408749, 123408752, 123431051, 123454869, 123454871, 123454874, 123454878, 123454932, 123507545, 123530419, 123530435, 123530442, 123530444, 123546144, 123561991, 123587177, 123587178, 123587183, 123660645, 123660671, 123689334, 123689336, 123706432, 123706436, 123730924, 123730929, 123744935, 123775692, 123802576, 211145875, 211358943, 212386796, 212387023, 213332111, 277327497, 277327619, 277327830, 277327836, 277328070, 277328088, 279663013, 279663022, 279663106, 418030177, 452688815, 452688855, 544672064, 604242638, 611590693, 611590699, 660937748, 660937754, 660937762, 660937764, 1286064744, 1613324268, 1613324270, 1613525134, 1613525136, 1613525144, 1614656032, 1614656074, 1614656079, 1614656081, 1614656083, 1614656096, 1614656098, 1614656116, 1717922226, 1717922240, 1717922257, 1717922283, 1717922300, 1717922313, 1717922324, 1717922330, 1717922364, 1717922370, 1717922379, 1717922385, 1717922386, 1717922389, 1717922397, 1717922402, 1717922407, 1717922419, 1717922426, 1717922465, 1717938335, 1717938336, 1717938355, 1717938357, 1717938359, 1717938364, 1717938375, 1717938395, 1717938409, 1717938410, 1717938421, 1717938454, 1717938473, 1717938482, 1717938516, 1717938548, 1717938554, 1768955996, 1768955999, 1768956013, 1770584845, 1771004834, 1771004838, 1771004849, 1771004855, 1771091142, 1840668935, 1840668944, 1840668945, 1840668957, 1840669350, 1840669352, 1840958795, 1840958797, 1840963760, 1841016349, 1843466233, 1843466234, 1845491162, 1849116063, 1849116066, 1878000351, 1878026177, 2613117913, 3195897587, 3584520465, 3584520471, 4009709281, 4015203116, 4015372472, 4037559775, 5237381975, 5345018536, 5345018537, 5345018539, 5396460273, 5396460275, 6813379482, 6813405224, 6813405266, 6813405267, 6813416126, 6813416127, 6813416129, 6813416130, 6813416131, 6813416141, 6813416155, 6814958401, 6814958412, 6814958414, 6814958416, 6814958417, 6814958421, 6814958429, 6816180168, 6816180170, 6816193696, 6816193698, 6816193770, 6816193772, 6816193782, 6816193783, 6816193784, 6816193785, 6816193786, 6816193787, 6818427923, 8796829409, 8796829410, 8796829411, 9066031516, 9066072817, 9752637360, 9753026945, 9753026946, 9753026953]\n",
      "389\n",
      "1087\n",
      "[653744, 21063602, 21748256, 21748260, 23964410, 24043448, 25062064, 25062067, 26493029, 26666257, 26666259, 26666265, 67619040, 67619127, 67666056, 69070537, 69091989, 69092055, 71986952, 72017717, 72017733, 72017744, 72027616, 72027628, 72027686, 72091953, 72091993, 72091997, 72092015, 72092030, 72092041, 72260089, 72260243, 72260258, 72260323, 72791983, 72791992, 122484355, 122500554, 122589830, 122589835, 122589843, 122594731, 122594735, 122594770, 122594773, 122594782, 122594784, 122594791, 122594794, 122594797, 122594799, 122594801, 122594803, 122594810, 122594812, 122594816, 122594819, 122594823, 122607580, 122607584, 122607588, 122607591, 122607594, 122607597, 122607600, 122607601, 122607602, 122607608, 122607611, 122607613, 122607649, 122613028, 122613030, 122613035, 122613038, 122613052, 122620350, 122620351, 122620352, 122620356, 122620359, 122627100, 122627103, 122627106, 122627109, 122627111, 122627112, 122627113, 122659315, 122659317, 122668919, 122668925, 122668928, 122668929, 122668930, 122668970, 122668978, 122668982, 122675083, 122719532, 122719535, 122719646, 122719651, 122719655, 122719662, 122723243, 122723246, 122723248, 122723251, 122723252, 122723254, 122723259, 122723299, 122723301, 122723303, 122723309, 122723312, 122733826, 122733828, 122751426, 122751428, 122770836, 122770844, 122770847, 122781723, 122781727, 122795320, 122795322, 122815885, 122840566, 122840568, 122840569, 122840570, 122840573, 122868250, 122868251, 122868253, 122868256, 122868262, 122872147, 122886634, 122886639, 122886640, 122886643, 122886645, 122886648, 122886650, 122886652, 122886654, 122886750, 122886753, 122886757, 122886762, 122886765, 122916973, 122916978, 122922203, 122957019, 122957022, 122957043, 122986061, 122986066, 122986069, 122986074, 122986077, 122986173, 122987857, 122987860, 122987866, 122987868, 122987954, 122989538, 122989548, 122989550, 122989552, 122989553, 122989555, 122990321, 122990323, 123001018, 123001021, 123010613, 123015310, 123015312, 123015319, 123015322, 123027398, 123027399, 123041652, 123066907, 123066917, 123066919, 123066933, 123066936, 123066942, 123066944, 123066946, 123066949, 123066950, 123066951, 123085400, 123087183, 123087186, 123087189, 123087192, 123087194, 123087199, 123105323, 123105325, 123106303, 123106305, 123119551, 123119553, 123142784, 123142787, 123142790, 123142800, 123145985, 123146075, 123153877, 123164768, 123176278, 123176280, 123176282, 123176311, 123250098, 123250167, 123250169, 123250175, 123250192, 123286797, 123286802, 123302803, 123302806, 123302809, 123316293, 123316668, 123339300, 123339301, 123339302, 123346204, 123358096, 123358101, 123358104, 123358107, 123358173, 123358176, 123358178, 123360986, 123360988, 123413057, 123413061, 123413065, 123459492, 123525604, 123525610, 123525650, 123567367, 123567374, 123567376, 123590730, 123652129, 123652215, 123652218, 123667812, 123688663, 123699398, 123708027, 123708033, 123717834, 250167117, 250167130, 250167135, 250244827, 250244830, 250244831, 250244983, 250245036, 250729567, 250745152, 250755072, 250755074, 250874494, 250874498, 273124096, 273124561, 273124577, 273124578, 273124589, 273124645, 273126322, 273126323, 348126854, 348127029, 348127045, 540995262, 540995366, 593141620, 607992138, 613372820, 613372846, 613372853, 660529420, 1439574373, 1585270706, 1585270708, 1614922638, 1614922641, 1614922653, 1614922658, 1614922661, 1614922670, 1614922675, 1614922690, 1614922693, 1614922697, 1614922698, 1614922706, 1614922707, 1614922714, 1614922716, 1732340084, 1732340093, 1737920260, 1737920261, 1737956689, 1737956691, 1737956697, 1737956703, 1737956710, 1737956716, 1737963378, 1737963379, 1737963380, 1737963381, 1737963383, 1737963384, 1737963385, 1737963386, 1737963390, 1737963391, 1737963392, 1737963393, 1737963394, 1738436498, 1738436499, 1738437231, 1738437232, 1768179019, 1768179036, 1768179051, 1778692836, 1788042419, 1788063391, 1788063393, 1788074015, 1788074019, 1788074020, 1788078907, 1788082744, 1834930615, 1834930616, 1834930617, 1834930619, 1834930621, 1837220084, 1837231036, 1837231039, 1837240767, 1837240771, 1838383493, 1838383494, 1842091195, 1865298494, 1873055895, 1873055914, 1918475181, 1918475182, 1936616116, 1967655164, 1967655221, 1967655228, 2611838787, 2947650965, 3010199905, 3844445920, 3844445923, 3844569237, 3844569243, 3854498854, 3854501359, 3856059645, 3856059648, 4019846432, 5555609136, 6788053589, 6788053592, 7792816788, 8567484756, 9651345922, 9651345923, 9873342765]\n",
      "403\n",
      "1094\n",
      "[653766, 15068251, 15068253, 15713713, 16391230, 16391235, 16391285, 16391290, 25062044, 26208900, 26208901, 26995768, 38504569, 71986559, 71986601, 71986691, 72118803, 72260049, 72260058, 72260365, 72260686, 72260718, 72568867, 72602764, 72603063, 72603103, 72603136, 72603226, 72744233, 72744268, 72744345, 72791880, 122379266, 122379268, 122379339, 122379348, 122379352, 122379358, 122379360, 122379363, 122381754, 122416612, 122422634, 122447739, 122447771, 122469589, 122536937, 122536940, 122558845, 122558858, 122560987, 122561083, 122561088, 122561096, 122561100, 122561103, 122561105, 122561117, 122561127, 122561131, 122561141, 122561148, 122565180, 122568389, 122620361, 122620377, 122620379, 122620383, 122620392, 122620398, 122620400, 122620403, 122620408, 122620409, 122620413, 122620415, 122647411, 122647414, 122647421, 122647424, 122647426, 122647431, 122647437, 122647440, 122648148, 122648151, 122648153, 122666125, 122675074, 122675076, 122675078, 122675085, 122675086, 122741737, 122741739, 122741742, 122741744, 122797937, 122797950, 122819577, 122819580, 122819584, 122819586, 122819597, 122819599, 122837018, 122837020, 122850884, 122868211, 122879932, 122879934, 122879936, 122879947, 122880014, 122880017, 122886767, 122886769, 122886786, 122886790, 122886792, 122886985, 122886999, 122887001, 122887003, 122887006, 122907219, 122913209, 122913212, 122935545, 122935548, 122935554, 122935557, 122935560, 122954756, 122954760, 122954762, 122954763, 122954764, 122974131, 122974133, 122974141, 122974142, 122974149, 122974160, 122974165, 122986081, 122989184, 122989186, 122989501, 122989503, 122989505, 122989507, 122989540, 122989572, 123016304, 123016307, 123016309, 123016316, 123016328, 123016331, 123016334, 123016340, 123016343, 123051556, 123051558, 123051567, 123051571, 123056124, 123056130, 123056133, 123056136, 123066762, 123066792, 123066794, 123066797, 123067695, 123067698, 123099530, 123137076, 123139823, 123192620, 123192634, 123192655, 123199065, 123219214, 123232759, 123232762, 123232765, 123245909, 123245927, 123245932, 123250068, 123250071, 123250073, 123250080, 123250100, 123250102, 123270820, 123270823, 123270833, 123270844, 123273180, 123273182, 123273183, 123358135, 123360996, 123372690, 123372721, 123373298, 123412992, 123412995, 123413088, 123420882, 123420894, 123420895, 123420897, 123420903, 123420917, 123435545, 123453200, 123461906, 123461909, 123461911, 123463449, 123463463, 123463471, 123463490, 123463503, 123477188, 123477191, 123488785, 123490615, 123490619, 123525621, 123525624, 123538530, 123562048, 123569565, 123569587, 123569591, 123580668, 123580670, 123580673, 123580677, 123608117, 123633742, 123708804, 123708806, 123708811, 123725698, 123730676, 123752124, 250211649, 250272740, 250272820, 250350170, 269608438, 269608447, 269608448, 271049937, 271049960, 271050004, 271050021, 271054122, 271054130, 271054141, 271054161, 271054397, 317639226, 317639330, 317639334, 317639339, 317639434, 317639773, 317639953, 317640150, 317640401, 317640724, 317641736, 317642127, 317642261, 317642471, 317642668, 317642793, 317642827, 317642902, 317643002, 317643104, 317643458, 317643468, 317644173, 317644519, 317644520, 317644546, 317645238, 317645437, 317645438, 317645444, 317645455, 317645602, 317645896, 317646428, 317648078, 317648426, 317649797, 317649804, 317650658, 317660695, 317660877, 317661082, 317661150, 317661183, 317661295, 317661311, 363468652, 604129013, 604129039, 604238278, 604238283, 604238311, 604238313, 604238456, 604238458, 604239120, 604239295, 605181851, 607902543, 614003525, 910997296, 910997348, 910997614, 1530583593, 1530583597, 1530583719, 1613371652, 1613371655, 1615052982, 1615052986, 1768179027, 1768179034, 1768179053, 1768179054, 1775419597, 1775419600, 1775419623, 1775419630, 1775419634, 1775419657, 1775419751, 1775419777, 1788074016, 1838382921, 1929502293, 1966358992, 2530330741, 2530330807, 2611809659, 4015413487, 4049747227, 4049747230, 4049747231, 4049747232, 4049747236, 4589831879, 4589831880, 5112634401, 5957680192, 6304088380, 6788416044, 6788416047, 7495879297, 7882516438, 7904320784, 7904383185, 7904383186, 8295660855, 9890749850, 9890749854]\n",
      "378\n",
      "925\n",
      "[653772, 14798642, 14941347, 14941348, 14941693, 14943097, 15373638, 15715635, 15717255, 16203358, 16582687, 16941223, 16941224, 17737741, 18882157, 19365035, 21150896, 21420438, 21420499, 21420501, 21507168, 21507169, 21507171, 26524601, 31479975, 32274961, 68965696, 69275470, 69275584, 72448746, 72448791, 72448807, 72448821, 72448938, 72568812, 72602888, 72602899, 72743927, 76369399, 76369416, 76413024, 76413037, 76413048, 76413061, 122389010, 122467980, 122482411, 122555863, 122555865, 122555868, 122555871, 122555873, 122555899, 122555902, 122555906, 122555922, 122555925, 122560989, 122560992, 122564494, 122564496, 122584138, 122584143, 122584150, 122584153, 122584155, 122584285, 122584288, 122584318, 122584321, 122584322, 122584415, 122601075, 122601078, 122613775, 122613778, 122626552, 122626555, 122628198, 122632690, 122632692, 122656711, 122664106, 122683012, 122688508, 122688511, 122717927, 122740425, 122740427, 122741782, 122741784, 122746335, 122746338, 122746341, 122759574, 122759581, 122759582, 122759590, 122769483, 122769485, 122772318, 122772321, 122792131, 122807807, 122807812, 122807814, 122807816, 122807818, 122815923, 122851148, 122872202, 122872205, 122872210, 122939359, 122945878, 122945879, 122945880, 122945884, 122945888, 122945890, 122945891, 122945892, 122945894, 122945896, 122948995, 122954575, 122954576, 122954580, 122954583, 122954585, 122954587, 122954589, 122954590, 122954611, 122954614, 122954622, 122954853, 122967648, 122967650, 122977589, 122977592, 122977609, 122977613, 122982118, 122989169, 123030025, 123030030, 123030033, 123076373, 123076376, 123076378, 123076390, 123076394, 123076399, 123076403, 123083543, 123083545, 123093125, 123093878, 123093880, 123093882, 123093884, 123095466, 123095484, 123126732, 123126743, 123126746, 123135846, 123166008, 123168707, 123168714, 123168718, 123168721, 123184683, 123185011, 123185013, 123185022, 123185027, 123185030, 123198423, 123198430, 123231193, 123273173, 123285238, 123285244, 123301906, 123304328, 123304330, 123304334, 123304338, 123304343, 123310172, 123333980, 123333983, 123333985, 123333991, 123333998, 123376181, 123406779, 123406784, 123406789, 123426792, 123426798, 123432674, 123483818, 123489536, 123538525, 123611485, 123611495, 123639144, 123729208, 123752166, 250001395, 250008947, 250052546, 250052551, 250130162, 250130185, 250130230, 250130251, 250144069, 250144078, 268372447, 268372519, 268538632, 268538668, 268538749, 268538832, 268538905, 268538938, 268538950, 268538960, 268539330, 268545891, 268545941, 268545942, 268546667, 268546677, 268546732, 269459069, 269459296, 269459338, 269459476, 269459515, 269460527, 269460531, 269460840, 269460895, 269460921, 269461339, 269461369, 269461524, 269603908, 269603915, 269606329, 269606685, 269607276, 269607282, 269607528, 269607539, 269607540, 269607541, 269607555, 269607557, 269607558, 269607559, 269607670, 269607687, 269607701, 269607720, 269607762, 269607824, 269608282, 269608285, 269608290, 279044850, 281506167, 281506299, 283382764, 319435528, 326712429, 326757618, 338507085, 338507163, 363477390, 363477990, 404828928, 495807629, 540985381, 540985818, 604238329, 604238345, 604238349, 604238412, 604238578, 604319663, 604319666, 604319667, 604319669, 604319670, 604319671, 604319672, 604319675, 604319677, 604319678, 604319679, 604319680, 604319682, 604319683, 604319688, 604319689, 604319690, 604319691, 604319696, 604319697, 604319698, 604319699, 604319701, 604319702, 728767754, 728773436, 728773762, 807121167, 807592268, 807592312, 911278865, 911278973, 1437116115, 1437216565, 1530583594, 1613371721, 1613371722, 1613371771, 1613580569, 1614922757, 1614922758, 1614922775, 1614922778, 1614922808, 1614922823, 1614922854, 1614922856, 1614922891, 1614922996, 1834142278, 1834784331, 1836148269, 1836148276, 1836148350, 1836149466, 1836149468, 1836149470, 1836149471, 1836149479, 1836149571, 1838295028, 1838297468, 1838297470, 1838297478, 1838297482, 1838301287, 1841049404, 1849378497, 1884813420, 1884813424, 1884813425, 1884813426, 1902458938, 1969136948, 1969136998, 1985260155, 1994531073, 2258860810, 2258860847, 2358067008, 2445074378, 2445074384, 2456269852, 2935903747, 2947683392, 3611041523, 3611041536, 3637444125, 3641188298, 3641188302, 3641188303, 3642750895, 3642750898, 4020160778, 5731678867, 6787498517, 7875081595, 9821442928, 10041207721, 10092195462, 10092195463]\n",
      "396\n",
      "951\n",
      "[668264, 668265, 668267, 668268, 21300151, 21306047, 21306051, 26427470, 26427474, 26427478, 26427481, 50782642, 50782701, 122441295, 122672642, 122816491, 122816501, 122859880, 122936456, 123045861, 123112134, 123476763, 123770387, 143355420, 143355456, 143355491, 143355500, 143355523, 143355532, 143355643, 143355702, 143355723, 143355853, 143355881, 143356047, 143356065, 143356160, 248112222, 248112227, 270017916, 270018883, 270019153, 270019350, 270019351, 270019522, 270019662, 270019665, 296012203, 300089151, 300089301, 316001113, 325333650, 444666860, 444666868, 444666876, 444666884, 444666899, 444666910, 444666914, 444666916, 444666927, 444666929, 444666930, 444666943, 444666964, 444666969, 444973649, 444973650, 444973661, 444973663, 489913045, 559828109, 559828110, 559828120, 1031001685, 1031001690, 1031001812, 1031001813, 1718756069, 1718756093, 1718756096, 1718756183, 1718756304, 1719475895, 1842908108, 1842908145, 1866516890, 1922418595, 3150080945, 3224888783, 3657262381, 3657262382, 3813317276, 3813317281, 4085342981, 4085396667, 4085396671, 4808535943, 5444352255, 5549800350, 5588579647, 6298380527, 6632677756, 6636639800, 6636639808, 6636639815, 6636639841, 6636639843, 6636639847, 6636639848, 6636639850, 6636639851, 6636639870, 6636639872, 6636639873, 6783504560, 6950236830, 6950236852, 8607122295, 8607152931, 8609810003, 8741359765, 9958463295, 9958463298]\n",
      "124\n",
      "198\n"
     ]
    },
    {
     "ename": "AttributeError",
     "evalue": "'list' object has no attribute 'split'",
     "output_type": "error",
     "traceback": [
      "\u001b[0;31m---------------------------------------------------------------------------\u001b[0m",
      "\u001b[0;31mAttributeError\u001b[0m                            Traceback (most recent call last)",
      "\u001b[0;32m/var/folders/t1/_0gb8ytx3sz2by9q__dvlr100000gn/T/ipykernel_43275/1293141682.py\u001b[0m in \u001b[0;36m<module>\u001b[0;34m\u001b[0m\n\u001b[1;32m     66\u001b[0m \u001b[0;34m\u001b[0m\u001b[0m\n\u001b[1;32m     67\u001b[0m         \u001b[0;32mif\u001b[0m \u001b[0;34m\"maxspeed\"\u001b[0m \u001b[0;32min\u001b[0m \u001b[0medge_attr\u001b[0m\u001b[0;34m:\u001b[0m\u001b[0;34m\u001b[0m\u001b[0;34m\u001b[0m\u001b[0m\n\u001b[0;32m---> 68\u001b[0;31m             \u001b[0mmaxspeed\u001b[0m \u001b[0;34m=\u001b[0m \u001b[0mint\u001b[0m\u001b[0;34m(\u001b[0m\u001b[0medge_attr\u001b[0m\u001b[0;34m[\u001b[0m\u001b[0;34m\"maxspeed\"\u001b[0m\u001b[0;34m]\u001b[0m\u001b[0;34m.\u001b[0m\u001b[0msplit\u001b[0m\u001b[0;34m(\u001b[0m\u001b[0;34m)\u001b[0m\u001b[0;34m[\u001b[0m\u001b[0;36m0\u001b[0m\u001b[0;34m]\u001b[0m\u001b[0;34m)\u001b[0m\u001b[0;34m\u001b[0m\u001b[0;34m\u001b[0m\u001b[0m\n\u001b[0m\u001b[1;32m     69\u001b[0m         \u001b[0;32melse\u001b[0m\u001b[0;34m:\u001b[0m\u001b[0;34m\u001b[0m\u001b[0;34m\u001b[0m\u001b[0m\n\u001b[1;32m     70\u001b[0m             \u001b[0mmaxspeed\u001b[0m \u001b[0;34m=\u001b[0m \u001b[0;36m0\u001b[0m\u001b[0;34m\u001b[0m\u001b[0;34m\u001b[0m\u001b[0m\n",
      "\u001b[0;31mAttributeError\u001b[0m: 'list' object has no attribute 'split'"
     ]
    }
   ],
   "source": [
    "import torch\n",
    "from torch_geometric.data import Data\n",
    "\n",
    "graphs = []\n",
    "tim = 0\n",
    "for key in save_dict:\n",
    "    indexes = save_dict[key]\n",
    "    if len(indexes)<=5:\n",
    "        continue\n",
    "    node_features = []\n",
    "    nodes = []\n",
    "    node_labels = []\n",
    "    for index in indexes:\n",
    "        node_features.append(list(feature_matrix[index, 2:]))\n",
    "        node_labels.append(labels[index])\n",
    "        nodes.append(nodes_list[index])\n",
    "    node_features = np.array(node_features)\n",
    "    x = torch.tensor(node_features, dtype=torch.float)\n",
    "    node_labels = np.array(node_labels)\n",
    "    y = torch.tensor(node_labels)\n",
    "    \n",
    "    sub_G = G.subgraph(nodes)\n",
    "    sources = []\n",
    "    targets = []\n",
    "    edge_attributes = []  # length, bridge, lanes, oneway, maxspeed, tunnel\n",
    "    for edge in sub_G.edges:\n",
    "        sources.append(edge[0])\n",
    "        targets.append(edge[1])\n",
    "        edge_attr = sub_G[edge[0]][edge[1]][0]\n",
    "        if \"length\" in edge_attr:\n",
    "            length = edge_attr[\"length\"]\n",
    "        else:\n",
    "            length = 0\n",
    "        \n",
    "        if \"bridge\" in edge_attr:\n",
    "            if edge_attr[\"bridge\"]==\"yes\":\n",
    "                bridge=1\n",
    "            else:\n",
    "                bridge=0\n",
    "        else:\n",
    "            bridge=0\n",
    "            \n",
    "        if \"tunnel\" in edge_attr:\n",
    "            if edge_attr[\"tunnel\"]==\"yes\":\n",
    "                tunnel=1\n",
    "            else:\n",
    "                tunnel=0\n",
    "        else:\n",
    "            tunnel=0\n",
    "        \n",
    "        if \"lanes\" in edge_attr:\n",
    "            if type(edge_attr[\"lanes\"])==list:\n",
    "                lanes = int(edge_attr[\"lanes\"][0])\n",
    "            else:\n",
    "                lanes = int(edge_attr[\"lanes\"])\n",
    "        else:\n",
    "            lanes = 0\n",
    "        \n",
    "        if \"oneway\" in edge_attr:\n",
    "            oneway = int(edge_attr[\"oneway\"])\n",
    "        else:\n",
    "            oneway = 0\n",
    "            \n",
    "        if \"maxspeed\" in edge_attr:\n",
    "            maxspeed = int(edge_attr[\"maxspeed\"].split()[0])\n",
    "        else:\n",
    "            maxspeed = 0\n",
    "        edge_attributes.append([length, bridge, tunnel, lanes, oneway, maxspeed])\n",
    "    edge_attributes = np.array(edge_attributes)\n",
    "    edge_attr = torch.tensor(edge_attributes, dtype=torch.float)\n",
    "    edge_index = torch.tensor([sources, targets], dtype=torch.long)\n",
    "    data = Data(edge_index=edge_index, x=x, y=y, edge_attr=edge_attr)\n",
    "    graphs.append(data)\n",
    "    if tim>10:\n",
    "        break\n",
    "    tim+=1\n",
    "print(\"total number:\", len(graphs))"
   ]
  },
  {
   "cell_type": "code",
   "execution_count": null,
   "metadata": {},
   "outputs": [],
   "source": [
    "from torch_geometric.nn import GraphConv, GCNConv, SAGEConv, GATConv\n",
    "import torch\n",
    "import torch.nn as nn\n",
    "from torch.nn import Linear\n",
    "import torch.nn.functional as F\n",
    "\n",
    "class GNNModel(nn.Module):\n",
    "    def __init__(self, classes):\n",
    "        super(GNNModel, self).__init__()\n",
    "        self.conv1 = GATConv(3, 64)\n",
    "        self.conv2 = GATConv(64, 64)\n",
    "        self.conv3 = GATConv(64, 64)\n",
    "        self.linear = Linear(64, classes)\n",
    "    \n",
    "    def forward(self, data):\n",
    "        x, edge_index, edge_attr = data.x, data.edge_index, data.edge_attr\n",
    "        x = self.conv1(x, edge_index, edge_attr)\n",
    "        x = F.relu(x)\n",
    "        x = F.dropout(x, 0.4)\n",
    "        x = self.conv2(x, edge_index, edge_attr)\n",
    "        x = F.relu(x)\n",
    "        x = F.dropout(x, 0.4)\n",
    "        x = self.conv3(x, edge_index, edge_attr)\n",
    "        x = F.relu(x)\n",
    "        x = F.dropout(x, 0.4)\n",
    "        x = self.linear(x)\n",
    "        return x"
   ]
  },
  {
   "cell_type": "code",
   "execution_count": null,
   "metadata": {},
   "outputs": [],
   "source": [
    "from torch_geometric.data import DataLoader\n",
    "from torch.optim import Adam, AdamW\n",
    "\n",
    "batch_size = 8\n",
    "train_sets = graphs[:-10]\n",
    "test_sets = graphs[-10:]\n",
    "train_loader = DataLoader(train_sets, batch_size=batch_size)\n",
    "model = GNNModel(2)\n",
    "optimizer = AdamW(model.parameters(), lr=1e-4, weight_decay=5e-5)\n",
    "criterion = nn.CrossEntropyLoss()\n",
    "best_loss = float(\"inf\")\n",
    "epochs = 201\n",
    "interval = 50\n",
    "\n",
    "for epoch in range(epochs):\n",
    "    model.train()\n",
    "    losses = 0\n",
    "    nums = len(train_sets)\n",
    "    for _, data in enumerate(train_loader):\n",
    "        data = data\n",
    "        labels = data.y\n",
    "        predicts = model(data)\n",
    "        loss = criterion(predicts, labels)\n",
    "        losses+=loss.item()\n",
    "        optimizer.zero_grad()\n",
    "        loss.backward()\n",
    "        optimizer.step()\n",
    "    print(f\"epoch:{epoch}, loss:{losses/nums}\")\n",
    "    avg_loss = losses/nums\n",
    "    if avg_loss<best_loss:\n",
    "        best_loss = avg_loss\n",
    "    if epoch%interval == 0:\n",
    "        model.eval()\n",
    "        acc_avg = 0\n",
    "        times = 0\n",
    "        for _, data in enumerate(test_sets):\n",
    "            _, pred = model(data).max(dim=1)\n",
    "            correct = int(pred.eq(data.y).sum().item())\n",
    "            acc = correct / int(data.x.shape[0])\n",
    "            acc_avg+=acc\n",
    "            times+=1\n",
    "        print(f\"acc: {acc_avg/times}\")"
   ]
  }
 ],
 "metadata": {
  "kernelspec": {
   "display_name": "Python 3.7.7 ('interface')",
   "language": "python",
   "name": "python3"
  },
  "language_info": {
   "codemirror_mode": {
    "name": "ipython",
    "version": 3
   },
   "file_extension": ".py",
   "mimetype": "text/x-python",
   "name": "python",
   "nbconvert_exporter": "python",
   "pygments_lexer": "ipython3",
   "version": "3.7.7"
  },
  "orig_nbformat": 4,
  "vscode": {
   "interpreter": {
    "hash": "620def3dd55faa65adc5fe455927ead62dd83ecfc15eeca9e504733b3e5b32d7"
   }
  }
 },
 "nbformat": 4,
 "nbformat_minor": 2
}
